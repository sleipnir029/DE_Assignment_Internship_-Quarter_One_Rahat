{
 "cells": [
  {
   "cell_type": "code",
   "execution_count": 5,
   "id": "4db74157",
   "metadata": {},
   "outputs": [],
   "source": [
    "# import required modules\n",
    "import os\n",
    "import pandas as pd\n",
    "import requests, json, time\n",
    "from dotenv import load_dotenv"
   ]
  },
  {
   "cell_type": "code",
   "execution_count": 6,
   "id": "507b59a7",
   "metadata": {},
   "outputs": [],
   "source": [
    "# loading api_key from .env file\n",
    "load_dotenv()\n",
    "API_KEY = os.getenv('API_KEY')"
   ]
  },
  {
   "cell_type": "code",
   "execution_count": 7,
   "id": "53986cf1",
   "metadata": {},
   "outputs": [
    {
     "data": {
      "text/html": [
       "<div>\n",
       "<style scoped>\n",
       "    .dataframe tbody tr th:only-of-type {\n",
       "        vertical-align: middle;\n",
       "    }\n",
       "\n",
       "    .dataframe tbody tr th {\n",
       "        vertical-align: top;\n",
       "    }\n",
       "\n",
       "    .dataframe thead th {\n",
       "        text-align: right;\n",
       "    }\n",
       "</style>\n",
       "<table border=\"1\" class=\"dataframe\">\n",
       "  <thead>\n",
       "    <tr style=\"text-align: right;\">\n",
       "      <th></th>\n",
       "      <th>id</th>\n",
       "      <th>district_name</th>\n",
       "      <th>lat</th>\n",
       "      <th>long</th>\n",
       "    </tr>\n",
       "  </thead>\n",
       "  <tbody>\n",
       "    <tr>\n",
       "      <th>0</th>\n",
       "      <td>1</td>\n",
       "      <td>Bagerhat</td>\n",
       "      <td>22.6516</td>\n",
       "      <td>89.7859</td>\n",
       "    </tr>\n",
       "    <tr>\n",
       "      <th>1</th>\n",
       "      <td>2</td>\n",
       "      <td>Bandarban</td>\n",
       "      <td>22.1953</td>\n",
       "      <td>92.2184</td>\n",
       "    </tr>\n",
       "    <tr>\n",
       "      <th>2</th>\n",
       "      <td>3</td>\n",
       "      <td>Barguna</td>\n",
       "      <td>22.0953</td>\n",
       "      <td>90.1121</td>\n",
       "    </tr>\n",
       "    <tr>\n",
       "      <th>3</th>\n",
       "      <td>4</td>\n",
       "      <td>Barisal</td>\n",
       "      <td>22.7010</td>\n",
       "      <td>90.3535</td>\n",
       "    </tr>\n",
       "    <tr>\n",
       "      <th>4</th>\n",
       "      <td>5</td>\n",
       "      <td>Bhola</td>\n",
       "      <td>22.6859</td>\n",
       "      <td>90.6482</td>\n",
       "    </tr>\n",
       "  </tbody>\n",
       "</table>\n",
       "</div>"
      ],
      "text/plain": [
       "   id district_name      lat     long\n",
       "0   1      Bagerhat  22.6516  89.7859\n",
       "1   2     Bandarban  22.1953  92.2184\n",
       "2   3       Barguna  22.0953  90.1121\n",
       "3   4       Barisal  22.7010  90.3535\n",
       "4   5         Bhola  22.6859  90.6482"
      ]
     },
     "execution_count": 7,
     "metadata": {},
     "output_type": "execute_result"
    }
   ],
   "source": [
    "# loading district_coordinates\n",
    "df = pd.read_csv(\"district_coordinates.csv\")\n",
    "df.head()"
   ]
  },
  {
   "cell_type": "code",
   "execution_count": 21,
   "id": "a73bd5bf",
   "metadata": {},
   "outputs": [],
   "source": [
    "# seperating lat and llong values\n",
    "LAT = df['lat']\n",
    "LONG = df['long']"
   ]
  },
  {
   "cell_type": "code",
   "execution_count": null,
   "id": "623ac8ef",
   "metadata": {},
   "outputs": [],
   "source": []
  },
  {
   "cell_type": "code",
   "execution_count": null,
   "id": "4fb06409",
   "metadata": {},
   "outputs": [],
   "source": []
  }
 ],
 "metadata": {
  "kernelspec": {
   "display_name": "dsp",
   "language": "python",
   "name": "dsp"
  },
  "language_info": {
   "codemirror_mode": {
    "name": "ipython",
    "version": 3
   },
   "file_extension": ".py",
   "mimetype": "text/x-python",
   "name": "python",
   "nbconvert_exporter": "python",
   "pygments_lexer": "ipython3",
   "version": "3.10.1"
  }
 },
 "nbformat": 4,
 "nbformat_minor": 5
}
